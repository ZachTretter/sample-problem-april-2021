{
 "cells": [
  {
   "cell_type": "markdown",
   "metadata": {},
   "source": [
    "Zach Tretter\n",
    "23 Apr 2021\n",
    "\n",
    "Time Spent ~4 hours (half of that experimenting with visuals)\n",
    "\n",
    "---------------"
   ]
  },
  {
   "cell_type": "markdown",
   "metadata": {},
   "source": [
    "EXERCISE QUESTIONS\n",
    "\n",
    "Using the data provided, create a series of visualizations (e.g., charts, graphs, etc.) that answer the following questions regarding the results of the 2006 Pike’s Peak 10k Race:\n",
    "\n",
    "1.What are the mean, median, mode, and range of the race results for all racers by gender?\n",
    "\n",
    "2.Analyze the difference between gun and nettime race results.\n",
    "\n",
    "3.How much time separates Chris Doe from the top 10 percentile of racers of the same division?\n",
    "\n",
    "4.Compare the race results of each division."
   ]
  },
  {
   "cell_type": "markdown",
   "metadata": {},
   "source": [
    "**Assumptions**\n",
    "* We can identify nonsensical ages (e.g. -1) but cannot identify errors (e.g. Joe Smith is actually 26 not 62)\n",
    "* The meaning of special characters in the time field is not impactful to the results\n",
    "* Name, hometown, and number are irrelevant to analysis (no need to clean these fields)\n",
    "* Race time values supercede any information in division placement\n",
    "* Age and Time can be used to inform Division Placement and Totals in Division\n",
    "* The existing Div/Total values are wrong and need to be recalculated"
   ]
  },
  {
   "cell_type": "code",
   "execution_count": 1,
   "metadata": {
    "ExecuteTime": {
     "end_time": "2021-04-23T16:04:05.021245Z",
     "start_time": "2021-04-23T16:04:04.016192Z"
    }
   },
   "outputs": [],
   "source": [
    "import pandas as pd\n",
    "import numpy as np\n",
    "import seaborn as sns\n",
    "import matplotlib.pyplot as plt"
   ]
  },
  {
   "cell_type": "markdown",
   "metadata": {},
   "source": [
    "# Import and Build Dataframe"
   ]
  },
  {
   "cell_type": "markdown",
   "metadata": {},
   "source": [
    "## Import csv files"
   ]
  },
  {
   "cell_type": "code",
   "execution_count": 2,
   "metadata": {
    "ExecuteTime": {
     "end_time": "2021-04-23T16:04:05.053253Z",
     "start_time": "2021-04-23T16:04:05.025165Z"
    }
   },
   "outputs": [],
   "source": [
    "df_female = pd.read_csv('MA_Exer_PikesPeak_Females.txt',\n",
    "                        delimiter = \"\\t\",\n",
    "                        encoding = 'ANSI')\n",
    "\n",
    "df_male = pd.read_csv('MA_Exer_PikesPeak_Males.txt',\n",
    "                      delimiter = \"\\t\",\n",
    "                      encoding = 'ANSI')"
   ]
  },
  {
   "cell_type": "markdown",
   "metadata": {},
   "source": [
    "## Verify Columns in Dataframes are Same"
   ]
  },
  {
   "cell_type": "code",
   "execution_count": 3,
   "metadata": {
    "ExecuteTime": {
     "end_time": "2021-04-23T16:04:05.069158Z",
     "start_time": "2021-04-23T16:04:05.059174Z"
    }
   },
   "outputs": [
    {
     "data": {
      "text/plain": [
       "True"
      ]
     },
     "execution_count": 3,
     "metadata": {},
     "output_type": "execute_result"
    }
   ],
   "source": [
    "np.array_equal(df_male.columns, df_female.columns)"
   ]
  },
  {
   "cell_type": "markdown",
   "metadata": {
    "ExecuteTime": {
     "end_time": "2021-04-16T21:38:15.931679Z",
     "start_time": "2021-04-16T21:38:15.914627Z"
    }
   },
   "source": [
    "## Create Gender Column"
   ]
  },
  {
   "cell_type": "code",
   "execution_count": 4,
   "metadata": {
    "ExecuteTime": {
     "end_time": "2021-04-23T16:04:05.099159Z",
     "start_time": "2021-04-23T16:04:05.070159Z"
    }
   },
   "outputs": [],
   "source": [
    "df_female['gender'] = 'female'\n",
    "df_male['gender'] = 'male'"
   ]
  },
  {
   "cell_type": "markdown",
   "metadata": {},
   "source": [
    "## Combine Male and Female Dataframes"
   ]
  },
  {
   "cell_type": "code",
   "execution_count": 5,
   "metadata": {
    "ExecuteTime": {
     "end_time": "2021-04-23T16:04:05.115161Z",
     "start_time": "2021-04-23T16:04:05.101160Z"
    }
   },
   "outputs": [],
   "source": [
    "df = df_male.append(df_female).reset_index(drop = True)"
   ]
  },
  {
   "cell_type": "markdown",
   "metadata": {},
   "source": [
    "## Rename Columns"
   ]
  },
  {
   "cell_type": "code",
   "execution_count": 6,
   "metadata": {
    "ExecuteTime": {
     "end_time": "2021-04-23T16:04:05.131161Z",
     "start_time": "2021-04-23T16:04:05.116190Z"
    }
   },
   "outputs": [],
   "source": [
    "df.rename(columns={\n",
    "    'Ag':'age',\n",
    "    'Gun Tim':'gun_time',\n",
    "    'Net Tim':'net_time',\n",
    "    'Div/Tot':'div_tot',\n",
    "}, inplace = True)"
   ]
  },
  {
   "cell_type": "markdown",
   "metadata": {},
   "source": [
    "## View our Starting Dataframe"
   ]
  },
  {
   "cell_type": "code",
   "execution_count": 7,
   "metadata": {
    "ExecuteTime": {
     "end_time": "2021-04-23T16:04:05.163196Z",
     "start_time": "2021-04-23T16:04:05.133160Z"
    }
   },
   "outputs": [
    {
     "data": {
      "text/html": [
       "<div>\n",
       "<style scoped>\n",
       "    .dataframe tbody tr th:only-of-type {\n",
       "        vertical-align: middle;\n",
       "    }\n",
       "\n",
       "    .dataframe tbody tr th {\n",
       "        vertical-align: top;\n",
       "    }\n",
       "\n",
       "    .dataframe thead th {\n",
       "        text-align: right;\n",
       "    }\n",
       "</style>\n",
       "<table border=\"1\" class=\"dataframe\">\n",
       "  <thead>\n",
       "    <tr style=\"text-align: right;\">\n",
       "      <th></th>\n",
       "      <th>Place</th>\n",
       "      <th>div_tot</th>\n",
       "      <th>Num</th>\n",
       "      <th>Name</th>\n",
       "      <th>age</th>\n",
       "      <th>Hometown</th>\n",
       "      <th>gun_time</th>\n",
       "      <th>net_time</th>\n",
       "      <th>Pace</th>\n",
       "      <th>gender</th>\n",
       "    </tr>\n",
       "  </thead>\n",
       "  <tbody>\n",
       "    <tr>\n",
       "      <th>0</th>\n",
       "      <td>1</td>\n",
       "      <td>1/48</td>\n",
       "      <td>9</td>\n",
       "      <td>Joshua Kemei</td>\n",
       "      <td>22.0</td>\n",
       "      <td>Kenya .</td>\n",
       "      <td>28:48</td>\n",
       "      <td>28:47#</td>\n",
       "      <td>4:38</td>\n",
       "      <td>male</td>\n",
       "    </tr>\n",
       "    <tr>\n",
       "      <th>1</th>\n",
       "      <td>2</td>\n",
       "      <td>2/48</td>\n",
       "      <td>35</td>\n",
       "      <td>George Kirwa Misoi</td>\n",
       "      <td>22.0</td>\n",
       "      <td>Kenya .</td>\n",
       "      <td>29:11</td>\n",
       "      <td>29:10#</td>\n",
       "      <td>4:42</td>\n",
       "      <td>male</td>\n",
       "    </tr>\n",
       "    <tr>\n",
       "      <th>2</th>\n",
       "      <td>3</td>\n",
       "      <td>3/48</td>\n",
       "      <td>3</td>\n",
       "      <td>Jacob Frey</td>\n",
       "      <td>24.0</td>\n",
       "      <td>Oakton VA</td>\n",
       "      <td>29:38</td>\n",
       "      <td>29:37#</td>\n",
       "      <td>4:46</td>\n",
       "      <td>male</td>\n",
       "    </tr>\n",
       "    <tr>\n",
       "      <th>3</th>\n",
       "      <td>4</td>\n",
       "      <td>1/96</td>\n",
       "      <td>49</td>\n",
       "      <td>Gurmessa Kumsa</td>\n",
       "      <td>27.0</td>\n",
       "      <td>Oxon Hill MD</td>\n",
       "      <td>29:46</td>\n",
       "      <td>29:46#</td>\n",
       "      <td>4:48</td>\n",
       "      <td>male</td>\n",
       "    </tr>\n",
       "    <tr>\n",
       "      <th>4</th>\n",
       "      <td>5</td>\n",
       "      <td>4/48</td>\n",
       "      <td>31</td>\n",
       "      <td>Mike Baird</td>\n",
       "      <td>24.0</td>\n",
       "      <td>Ardmore PA</td>\n",
       "      <td>30:31</td>\n",
       "      <td>30:30</td>\n",
       "      <td>4:55</td>\n",
       "      <td>male</td>\n",
       "    </tr>\n",
       "    <tr>\n",
       "      <th>...</th>\n",
       "      <td>...</td>\n",
       "      <td>...</td>\n",
       "      <td>...</td>\n",
       "      <td>...</td>\n",
       "      <td>...</td>\n",
       "      <td>...</td>\n",
       "      <td>...</td>\n",
       "      <td>...</td>\n",
       "      <td>...</td>\n",
       "      <td>...</td>\n",
       "    </tr>\n",
       "    <tr>\n",
       "      <th>2365</th>\n",
       "      <td>1101</td>\n",
       "      <td>247/247</td>\n",
       "      <td>1847</td>\n",
       "      <td>Alicia Maxwell</td>\n",
       "      <td>35.0</td>\n",
       "      <td>Germantown MD</td>\n",
       "      <td>1:43:47</td>\n",
       "      <td>1:40:39</td>\n",
       "      <td>16:12</td>\n",
       "      <td>female</td>\n",
       "    </tr>\n",
       "    <tr>\n",
       "      <th>2366</th>\n",
       "      <td>1102</td>\n",
       "      <td>110/110</td>\n",
       "      <td>2618</td>\n",
       "      <td>Regina Tenali</td>\n",
       "      <td>47.0</td>\n",
       "      <td>Gaithersburg MD</td>\n",
       "      <td>1:50:31</td>\n",
       "      <td>1:45:22</td>\n",
       "      <td>16:58</td>\n",
       "      <td>female</td>\n",
       "    </tr>\n",
       "    <tr>\n",
       "      <th>2367</th>\n",
       "      <td>1103</td>\n",
       "      <td>171/173</td>\n",
       "      <td>986</td>\n",
       "      <td>Nirmala Donley</td>\n",
       "      <td>32.0</td>\n",
       "      <td>Ellicott City M</td>\n",
       "      <td>D 1:50:31</td>\n",
       "      <td>1:45:22</td>\n",
       "      <td>16:58</td>\n",
       "      <td>female</td>\n",
       "    </tr>\n",
       "    <tr>\n",
       "      <th>2368</th>\n",
       "      <td>1104</td>\n",
       "      <td>172/173</td>\n",
       "      <td>1214</td>\n",
       "      <td>Heidi Gertner</td>\n",
       "      <td>34.0</td>\n",
       "      <td>Bethesda MD</td>\n",
       "      <td>1:46:49</td>\n",
       "      <td>1:46:49</td>\n",
       "      <td>17:12</td>\n",
       "      <td>female</td>\n",
       "    </tr>\n",
       "    <tr>\n",
       "      <th>2369</th>\n",
       "      <td>1105</td>\n",
       "      <td>173/173</td>\n",
       "      <td>2852</td>\n",
       "      <td>Deborah Zerwitz</td>\n",
       "      <td>33.0</td>\n",
       "      <td>Washington DC</td>\n",
       "      <td>1:46:49</td>\n",
       "      <td>1:46:49</td>\n",
       "      <td>17:12</td>\n",
       "      <td>female</td>\n",
       "    </tr>\n",
       "  </tbody>\n",
       "</table>\n",
       "<p>2370 rows × 10 columns</p>\n",
       "</div>"
      ],
      "text/plain": [
       "      Place  div_tot   Num                Name   age         Hometown  \\\n",
       "0         1     1/48     9        Joshua Kemei  22.0          Kenya .   \n",
       "1         2     2/48    35  George Kirwa Misoi  22.0          Kenya .   \n",
       "2         3     3/48     3          Jacob Frey  24.0        Oakton VA   \n",
       "3         4     1/96    49      Gurmessa Kumsa  27.0     Oxon Hill MD   \n",
       "4         5     4/48    31          Mike Baird  24.0       Ardmore PA   \n",
       "...     ...      ...   ...                 ...   ...              ...   \n",
       "2365   1101  247/247  1847      Alicia Maxwell  35.0    Germantown MD   \n",
       "2366   1102  110/110  2618       Regina Tenali  47.0  Gaithersburg MD   \n",
       "2367   1103  171/173   986      Nirmala Donley  32.0  Ellicott City M   \n",
       "2368   1104  172/173  1214       Heidi Gertner  34.0      Bethesda MD   \n",
       "2369   1105  173/173  2852     Deborah Zerwitz  33.0    Washington DC   \n",
       "\n",
       "       gun_time net_time   Pace  gender  \n",
       "0         28:48   28:47#   4:38    male  \n",
       "1         29:11   29:10#   4:42    male  \n",
       "2         29:38   29:37#   4:46    male  \n",
       "3         29:46   29:46#   4:48    male  \n",
       "4         30:31    30:30   4:55    male  \n",
       "...         ...      ...    ...     ...  \n",
       "2365    1:43:47  1:40:39  16:12  female  \n",
       "2366    1:50:31  1:45:22  16:58  female  \n",
       "2367  D 1:50:31  1:45:22  16:58  female  \n",
       "2368    1:46:49  1:46:49  17:12  female  \n",
       "2369    1:46:49  1:46:49  17:12  female  \n",
       "\n",
       "[2370 rows x 10 columns]"
      ]
     },
     "execution_count": 7,
     "metadata": {},
     "output_type": "execute_result"
    }
   ],
   "source": [
    "df"
   ]
  },
  {
   "cell_type": "markdown",
   "metadata": {},
   "source": [
    "# Assess Missing Values & Data Types"
   ]
  },
  {
   "cell_type": "markdown",
   "metadata": {},
   "source": [
    "## Examine Data Types"
   ]
  },
  {
   "cell_type": "code",
   "execution_count": 8,
   "metadata": {
    "ExecuteTime": {
     "end_time": "2021-04-23T16:04:05.179170Z",
     "start_time": "2021-04-23T16:04:05.166161Z"
    }
   },
   "outputs": [
    {
     "name": "stdout",
     "output_type": "stream",
     "text": [
      "<class 'pandas.core.frame.DataFrame'>\n",
      "RangeIndex: 2370 entries, 0 to 2369\n",
      "Data columns (total 10 columns):\n",
      " #   Column    Non-Null Count  Dtype  \n",
      "---  ------    --------------  -----  \n",
      " 0   Place     2370 non-null   int64  \n",
      " 1   div_tot   2366 non-null   object \n",
      " 2   Num       2370 non-null   int64  \n",
      " 3   Name      2370 non-null   object \n",
      " 4   age       2368 non-null   float64\n",
      " 5   Hometown  2370 non-null   object \n",
      " 6   gun_time  2370 non-null   object \n",
      " 7   net_time  2370 non-null   object \n",
      " 8   Pace      2370 non-null   object \n",
      " 9   gender    2370 non-null   object \n",
      "dtypes: float64(1), int64(2), object(7)\n",
      "memory usage: 185.3+ KB\n"
     ]
    }
   ],
   "source": [
    "df.info()"
   ]
  },
  {
   "cell_type": "markdown",
   "metadata": {},
   "source": [
    "Most Data Types are mixed"
   ]
  },
  {
   "cell_type": "markdown",
   "metadata": {
    "ExecuteTime": {
     "end_time": "2021-04-16T21:58:55.142750Z",
     "start_time": "2021-04-16T21:58:55.134752Z"
    }
   },
   "source": [
    "## Look at missing values"
   ]
  },
  {
   "cell_type": "code",
   "execution_count": 9,
   "metadata": {
    "ExecuteTime": {
     "end_time": "2021-04-23T16:04:05.211160Z",
     "start_time": "2021-04-23T16:04:05.181164Z"
    }
   },
   "outputs": [
    {
     "data": {
      "text/html": [
       "<div>\n",
       "<style scoped>\n",
       "    .dataframe tbody tr th:only-of-type {\n",
       "        vertical-align: middle;\n",
       "    }\n",
       "\n",
       "    .dataframe tbody tr th {\n",
       "        vertical-align: top;\n",
       "    }\n",
       "\n",
       "    .dataframe thead th {\n",
       "        text-align: right;\n",
       "    }\n",
       "</style>\n",
       "<table border=\"1\" class=\"dataframe\">\n",
       "  <thead>\n",
       "    <tr style=\"text-align: right;\">\n",
       "      <th></th>\n",
       "      <th>Place</th>\n",
       "      <th>div_tot</th>\n",
       "      <th>Num</th>\n",
       "      <th>Name</th>\n",
       "      <th>age</th>\n",
       "      <th>Hometown</th>\n",
       "      <th>gun_time</th>\n",
       "      <th>net_time</th>\n",
       "      <th>Pace</th>\n",
       "      <th>gender</th>\n",
       "    </tr>\n",
       "  </thead>\n",
       "  <tbody>\n",
       "    <tr>\n",
       "      <th>525</th>\n",
       "      <td>526</td>\n",
       "      <td>NaN</td>\n",
       "      <td>2003</td>\n",
       "      <td>Chris Nash</td>\n",
       "      <td>0.0</td>\n",
       "      <td>Brookeville MD</td>\n",
       "      <td>51:04</td>\n",
       "      <td>49:35</td>\n",
       "      <td>7:59</td>\n",
       "      <td>male</td>\n",
       "    </tr>\n",
       "    <tr>\n",
       "      <th>724</th>\n",
       "      <td>725</td>\n",
       "      <td>NaN</td>\n",
       "      <td>1999</td>\n",
       "      <td>Alan Nadelbach</td>\n",
       "      <td>NaN</td>\n",
       "      <td>Columbia MD</td>\n",
       "      <td>54:16</td>\n",
       "      <td>52:56</td>\n",
       "      <td>8:32</td>\n",
       "      <td>male</td>\n",
       "    </tr>\n",
       "    <tr>\n",
       "      <th>2229</th>\n",
       "      <td>965</td>\n",
       "      <td>NaN</td>\n",
       "      <td>201</td>\n",
       "      <td>Carla Sabloff</td>\n",
       "      <td>0.0</td>\n",
       "      <td>Mclean VA</td>\n",
       "      <td>1:13:38</td>\n",
       "      <td>1:08:29</td>\n",
       "      <td>11:02</td>\n",
       "      <td>female</td>\n",
       "    </tr>\n",
       "    <tr>\n",
       "      <th>2244</th>\n",
       "      <td>980</td>\n",
       "      <td>NaN</td>\n",
       "      <td>2843</td>\n",
       "      <td>Susan Rasmussen</td>\n",
       "      <td>NaN</td>\n",
       "      <td>Gaithersburg MD</td>\n",
       "      <td>1:14:51</td>\n",
       "      <td>1:09:34</td>\n",
       "      <td>11:12</td>\n",
       "      <td>female</td>\n",
       "    </tr>\n",
       "  </tbody>\n",
       "</table>\n",
       "</div>"
      ],
      "text/plain": [
       "      Place div_tot   Num             Name  age         Hometown gun_time  \\\n",
       "525     526     NaN  2003       Chris Nash  0.0   Brookeville MD    51:04   \n",
       "724     725     NaN  1999   Alan Nadelbach  NaN      Columbia MD    54:16   \n",
       "2229    965     NaN   201    Carla Sabloff  0.0        Mclean VA  1:13:38   \n",
       "2244    980     NaN  2843  Susan Rasmussen  NaN  Gaithersburg MD  1:14:51   \n",
       "\n",
       "     net_time   Pace  gender  \n",
       "525     49:35   7:59    male  \n",
       "724     52:56   8:32    male  \n",
       "2229  1:08:29  11:02  female  \n",
       "2244  1:09:34  11:12  female  "
      ]
     },
     "execution_count": 9,
     "metadata": {},
     "output_type": "execute_result"
    }
   ],
   "source": [
    "df.loc[df.isnull().any(axis=1),:]"
   ]
  },
  {
   "cell_type": "markdown",
   "metadata": {},
   "source": [
    "There is no div_total field which means we cannot infer the age\n",
    "\n",
    "There is no age field from which we can infer the 'div_tot' field\n",
    "\n",
    "So we'll drop these 4 data points.\n",
    "\n",
    "Given there's 2370 data points total, excluding 4 shouldn't matter for any metrics reported at the gender level"
   ]
  },
  {
   "cell_type": "markdown",
   "metadata": {},
   "source": [
    "## Drop Rows with Missing Values --> Less than 1% of data set"
   ]
  },
  {
   "cell_type": "code",
   "execution_count": 10,
   "metadata": {
    "ExecuteTime": {
     "end_time": "2021-04-23T16:04:05.227162Z",
     "start_time": "2021-04-23T16:04:05.212161Z"
    },
    "scrolled": false
   },
   "outputs": [],
   "source": [
    "df.dropna(inplace=True)\n",
    "df.reset_index(drop = True);"
   ]
  },
  {
   "cell_type": "markdown",
   "metadata": {
    "ExecuteTime": {
     "end_time": "2021-04-16T21:58:41.617625Z",
     "start_time": "2021-04-16T21:58:41.607669Z"
    }
   },
   "source": [
    "# Data Cleaning"
   ]
  },
  {
   "cell_type": "markdown",
   "metadata": {
    "ExecuteTime": {
     "end_time": "2021-04-16T21:44:07.393889Z",
     "start_time": "2021-04-16T21:44:07.385916Z"
    }
   },
   "source": [
    "## 'Place'\n",
    "No place value should appear more than twice"
   ]
  },
  {
   "cell_type": "code",
   "execution_count": 11,
   "metadata": {
    "ExecuteTime": {
     "end_time": "2021-04-23T16:04:05.258158Z",
     "start_time": "2021-04-23T16:04:05.228161Z"
    }
   },
   "outputs": [
    {
     "data": {
      "text/plain": [
       "True"
      ]
     },
     "execution_count": 11,
     "metadata": {},
     "output_type": "execute_result"
    }
   ],
   "source": [
    "df['Place'].value_counts().max() <= 2"
   ]
  },
  {
   "cell_type": "markdown",
   "metadata": {
    "ExecuteTime": {
     "end_time": "2021-04-16T21:46:03.358360Z",
     "start_time": "2021-04-16T21:46:03.345706Z"
    }
   },
   "source": [
    "### Column 'Div/Tot'\n",
    "Seperate 'Div/Tot' into Division Place and Division Total\n",
    "\n",
    "Per problem description, we'll recalculate these to reflect the correct age groups\n"
   ]
  },
  {
   "cell_type": "code",
   "execution_count": 12,
   "metadata": {
    "ExecuteTime": {
     "end_time": "2021-04-23T16:04:05.274196Z",
     "start_time": "2021-04-23T16:04:05.259159Z"
    }
   },
   "outputs": [],
   "source": [
    "df['div_place'] = df['div_tot'].apply(lambda x: x.split(\"/\")[0]).astype(int)\n",
    "df['div_total'] = df['div_tot'].apply(lambda x: x.split(\"/\")[1]).astype(int)"
   ]
  },
  {
   "cell_type": "markdown",
   "metadata": {
    "ExecuteTime": {
     "end_time": "2021-04-16T22:08:27.866567Z",
     "start_time": "2021-04-16T22:08:27.861570Z"
    }
   },
   "source": [
    "## 'Age'\n",
    "\n",
    "### Look for anomalous ages"
   ]
  },
  {
   "cell_type": "code",
   "execution_count": 13,
   "metadata": {
    "ExecuteTime": {
     "end_time": "2021-04-23T16:04:05.354194Z",
     "start_time": "2021-04-23T16:04:05.276162Z"
    }
   },
   "outputs": [
    {
     "data": {
      "image/png": "[encoded data removed]",
      "text/plain": [
       "<Figure size 432x288 with 1 Axes>"
      ]
     },
     "metadata": {
      "needs_background": "light"
     },
     "output_type": "display_data"
    }
   ],
   "source": [
    "sns.boxplot(df['age']);"
   ]
  },
  {
   "cell_type": "markdown",
   "metadata": {},
   "source": [
    "Some negative and nonsensical ages exist"
   ]
  },
  {
   "cell_type": "code",
   "execution_count": 14,
   "metadata": {
    "ExecuteTime": {
     "end_time": "2021-04-23T16:04:05.386162Z",
     "start_time": "2021-04-23T16:04:05.356163Z"
    }
   },
   "outputs": [
    {
     "data": {
      "text/html": [
       "<div>\n",
       "<style scoped>\n",
       "    .dataframe tbody tr th:only-of-type {\n",
       "        vertical-align: middle;\n",
       "    }\n",
       "\n",
       "    .dataframe tbody tr th {\n",
       "        vertical-align: top;\n",
       "    }\n",
       "\n",
       "    .dataframe thead th {\n",
       "        text-align: right;\n",
       "    }\n",
       "</style>\n",
       "<table border=\"1\" class=\"dataframe\">\n",
       "  <thead>\n",
       "    <tr style=\"text-align: right;\">\n",
       "      <th></th>\n",
       "      <th>Place</th>\n",
       "      <th>div_tot</th>\n",
       "      <th>Num</th>\n",
       "      <th>Name</th>\n",
       "      <th>age</th>\n",
       "      <th>Hometown</th>\n",
       "      <th>gun_time</th>\n",
       "      <th>net_time</th>\n",
       "      <th>Pace</th>\n",
       "      <th>gender</th>\n",
       "      <th>div_place</th>\n",
       "      <th>div_total</th>\n",
       "    </tr>\n",
       "  </thead>\n",
       "  <tbody>\n",
       "    <tr>\n",
       "      <th>1209</th>\n",
       "      <td>1210</td>\n",
       "      <td>26/28</td>\n",
       "      <td>556</td>\n",
       "      <td>Chris Barr</td>\n",
       "      <td>-1.0</td>\n",
       "      <td>Germantown MD</td>\n",
       "      <td>1:15:39</td>\n",
       "      <td>1:10:30</td>\n",
       "      <td>11:21</td>\n",
       "      <td>male</td>\n",
       "      <td>26</td>\n",
       "      <td>28</td>\n",
       "    </tr>\n",
       "    <tr>\n",
       "      <th>1647</th>\n",
       "      <td>383</td>\n",
       "      <td>4/15</td>\n",
       "      <td>1917</td>\n",
       "      <td>Stefanie Merritt</td>\n",
       "      <td>-1.0</td>\n",
       "      <td>Alexandria VA</td>\n",
       "      <td>55:33</td>\n",
       "      <td>54:22*</td>\n",
       "      <td>8:45</td>\n",
       "      <td>female</td>\n",
       "      <td>4</td>\n",
       "      <td>15</td>\n",
       "    </tr>\n",
       "    <tr>\n",
       "      <th>791</th>\n",
       "      <td>792</td>\n",
       "      <td>15/28</td>\n",
       "      <td>1555</td>\n",
       "      <td>Jon Kesler</td>\n",
       "      <td>-1.0</td>\n",
       "      <td>Silver Spring MD</td>\n",
       "      <td>59:20</td>\n",
       "      <td>54:06</td>\n",
       "      <td>8:43</td>\n",
       "      <td>male</td>\n",
       "      <td>15</td>\n",
       "      <td>28</td>\n",
       "    </tr>\n",
       "    <tr>\n",
       "      <th>2273</th>\n",
       "      <td>1009</td>\n",
       "      <td>15/15</td>\n",
       "      <td>1778</td>\n",
       "      <td>Susan Mackey</td>\n",
       "      <td>-1.0</td>\n",
       "      <td>North Potomac M</td>\n",
       "      <td>D 1:16:36</td>\n",
       "      <td>1:11:18*</td>\n",
       "      <td>11:29</td>\n",
       "      <td>female</td>\n",
       "      <td>15</td>\n",
       "      <td>15</td>\n",
       "    </tr>\n",
       "    <tr>\n",
       "      <th>1969</th>\n",
       "      <td>705</td>\n",
       "      <td>10/15</td>\n",
       "      <td>1726</td>\n",
       "      <td>Arminda Lima</td>\n",
       "      <td>1.0</td>\n",
       "      <td>Silver Spring M</td>\n",
       "      <td>D 1:03:47</td>\n",
       "      <td>1:00:07</td>\n",
       "      <td>9:41</td>\n",
       "      <td>female</td>\n",
       "      <td>10</td>\n",
       "      <td>15</td>\n",
       "    </tr>\n",
       "    <tr>\n",
       "      <th>1225</th>\n",
       "      <td>1226</td>\n",
       "      <td>28/28</td>\n",
       "      <td>515</td>\n",
       "      <td>Gregory Aubertin</td>\n",
       "      <td>9.0</td>\n",
       "      <td>Rockville MD</td>\n",
       "      <td>1:16:21</td>\n",
       "      <td>1:12:26</td>\n",
       "      <td>11:40</td>\n",
       "      <td>male</td>\n",
       "      <td>28</td>\n",
       "      <td>28</td>\n",
       "    </tr>\n",
       "    <tr>\n",
       "      <th>2073</th>\n",
       "      <td>809</td>\n",
       "      <td>11/15</td>\n",
       "      <td>432</td>\n",
       "      <td>Ashley Peppel</td>\n",
       "      <td>10.0</td>\n",
       "      <td>Germantown MD</td>\n",
       "      <td>1:06:44</td>\n",
       "      <td>1:03:01</td>\n",
       "      <td>10:09</td>\n",
       "      <td>female</td>\n",
       "      <td>11</td>\n",
       "      <td>15</td>\n",
       "    </tr>\n",
       "    <tr>\n",
       "      <th>1118</th>\n",
       "      <td>1119</td>\n",
       "      <td>24/28</td>\n",
       "      <td>1731</td>\n",
       "      <td>Jason Linzau</td>\n",
       "      <td>10.0</td>\n",
       "      <td>Silver Spring MD</td>\n",
       "      <td>1:06:44</td>\n",
       "      <td>1:03:01</td>\n",
       "      <td>10:09</td>\n",
       "      <td>male</td>\n",
       "      <td>24</td>\n",
       "      <td>28</td>\n",
       "    </tr>\n",
       "    <tr>\n",
       "      <th>1791</th>\n",
       "      <td>527</td>\n",
       "      <td>5/15</td>\n",
       "      <td>2431</td>\n",
       "      <td>Deborah Sheperd</td>\n",
       "      <td>10.0</td>\n",
       "      <td>Hughesville MD</td>\n",
       "      <td>1:02:21</td>\n",
       "      <td>57:14</td>\n",
       "      <td>9:13</td>\n",
       "      <td>female</td>\n",
       "      <td>5</td>\n",
       "      <td>15</td>\n",
       "    </tr>\n",
       "    <tr>\n",
       "      <th>2264</th>\n",
       "      <td>1000</td>\n",
       "      <td>14/15</td>\n",
       "      <td>1611</td>\n",
       "      <td>Nicole Kopsidas</td>\n",
       "      <td>11.0</td>\n",
       "      <td>Rockville MD</td>\n",
       "      <td>1:12:10</td>\n",
       "      <td>1:10:36</td>\n",
       "      <td>11:22</td>\n",
       "      <td>female</td>\n",
       "      <td>14</td>\n",
       "      <td>15</td>\n",
       "    </tr>\n",
       "  </tbody>\n",
       "</table>\n",
       "</div>"
      ],
      "text/plain": [
       "      Place div_tot   Num              Name   age          Hometown  \\\n",
       "1209   1210   26/28   556        Chris Barr  -1.0     Germantown MD   \n",
       "1647    383    4/15  1917  Stefanie Merritt  -1.0     Alexandria VA   \n",
       "791     792   15/28  1555        Jon Kesler  -1.0  Silver Spring MD   \n",
       "2273   1009   15/15  1778      Susan Mackey  -1.0   North Potomac M   \n",
       "1969    705   10/15  1726      Arminda Lima   1.0   Silver Spring M   \n",
       "1225   1226   28/28   515  Gregory Aubertin   9.0      Rockville MD   \n",
       "2073    809   11/15   432     Ashley Peppel  10.0     Germantown MD   \n",
       "1118   1119   24/28  1731      Jason Linzau  10.0  Silver Spring MD   \n",
       "1791    527    5/15  2431   Deborah Sheperd  10.0    Hughesville MD   \n",
       "2264   1000   14/15  1611   Nicole Kopsidas  11.0      Rockville MD   \n",
       "\n",
       "       gun_time  net_time   Pace  gender  div_place  div_total  \n",
       "1209    1:15:39   1:10:30  11:21    male         26         28  \n",
       "1647      55:33    54:22*   8:45  female          4         15  \n",
       "791       59:20     54:06   8:43    male         15         28  \n",
       "2273  D 1:16:36  1:11:18*  11:29  female         15         15  \n",
       "1969  D 1:03:47   1:00:07   9:41  female         10         15  \n",
       "1225    1:16:21   1:12:26  11:40    male         28         28  \n",
       "2073    1:06:44   1:03:01  10:09  female         11         15  \n",
       "1118    1:06:44   1:03:01  10:09    male         24         28  \n",
       "1791    1:02:21     57:14   9:13  female          5         15  \n",
       "2264    1:12:10   1:10:36  11:22  female         14         15  "
      ]
     },
     "execution_count": 14,
     "metadata": {},
     "output_type": "execute_result"
    }
   ],
   "source": [
    "df.sort_values('age',ascending=True)[:10]"
   ]
  },
  {
   "cell_type": "markdown",
   "metadata": {},
   "source": [
    "### Create a Column for Age Bracket\n",
    "\n",
    "Per the prompt\n",
    "\n",
    "The two youngest age groups are 0-14 and 15-19\n",
    "\n",
    "The remaining age groups are separated by 10 year increments (e.g. 20-29, 30-39, etc.)\n"
   ]
  },
  {
   "cell_type": "code",
   "execution_count": 15,
   "metadata": {
    "ExecuteTime": {
     "end_time": "2021-04-23T16:04:05.402182Z",
     "start_time": "2021-04-23T16:04:05.387159Z"
    }
   },
   "outputs": [],
   "source": [
    "def age_brackets(age):\n",
    "    if age <= 14:\n",
    "        return '0-14'\n",
    "    elif age <= 19:\n",
    "        return '15-19'\n",
    "    else:\n",
    "        return \"{digit}0-{digit}9\".format(digit=int(age/10))"
   ]
  },
  {
   "cell_type": "code",
   "execution_count": 16,
   "metadata": {
    "ExecuteTime": {
     "end_time": "2021-04-23T16:04:05.418183Z",
     "start_time": "2021-04-23T16:04:05.403158Z"
    }
   },
   "outputs": [],
   "source": [
    "df['age_bracket'] = df['age'].apply(age_brackets)"
   ]
  },
  {
   "cell_type": "markdown",
   "metadata": {
    "ExecuteTime": {
     "end_time": "2021-04-22T19:05:13.488517Z",
     "start_time": "2021-04-22T19:05:13.470528Z"
    }
   },
   "source": [
    "### Correct erroneous ages\n",
    "\n",
    "Runners with erroneous age values are in divisions with 15 runners and 28 runners\n",
    "\n",
    "If there is exactly one division with that total number of participants we can infer the age\n",
    "\n",
    "There is one division with 15 runners so we can deduce the age bracket - Females 0-14\n",
    "\n",
    "There are two divisions with 28 runners - Males under 14 and Females 50-59\n",
    "\n",
    "The two runners with strange ages are identified as male so we can assign them to the age bracket 0-14\n",
    "\n"
   ]
  },
  {
   "cell_type": "code",
   "execution_count": 17,
   "metadata": {
    "ExecuteTime": {
     "end_time": "2021-04-23T16:04:05.449159Z",
     "start_time": "2021-04-23T16:04:05.419158Z"
    }
   },
   "outputs": [
    {
     "data": {
      "text/plain": [
       "div_total\n",
       "15    1.0\n",
       "28    2.0\n",
       "Name: Place, dtype: float64"
      ]
     },
     "execution_count": 17,
     "metadata": {},
     "output_type": "execute_result"
    }
   ],
   "source": [
    "div_totals = df.groupby('div_total').count()['Place']\n",
    "\n",
    "div_totals.loc[[15,28]] / [15,28]"
   ]
  },
  {
   "cell_type": "code",
   "execution_count": 18,
   "metadata": {
    "ExecuteTime": {
     "end_time": "2021-04-23T16:04:05.481158Z",
     "start_time": "2021-04-23T16:04:05.451159Z"
    },
    "scrolled": false
   },
   "outputs": [
    {
     "data": {
      "text/html": [
       "<div>\n",
       "<style scoped>\n",
       "    .dataframe tbody tr th:only-of-type {\n",
       "        vertical-align: middle;\n",
       "    }\n",
       "\n",
       "    .dataframe tbody tr th {\n",
       "        vertical-align: top;\n",
       "    }\n",
       "\n",
       "    .dataframe thead th {\n",
       "        text-align: right;\n",
       "    }\n",
       "</style>\n",
       "<table border=\"1\" class=\"dataframe\">\n",
       "  <thead>\n",
       "    <tr style=\"text-align: right;\">\n",
       "      <th>age_bracket</th>\n",
       "      <th>0-14</th>\n",
       "    </tr>\n",
       "    <tr>\n",
       "      <th>gender</th>\n",
       "      <th></th>\n",
       "    </tr>\n",
       "  </thead>\n",
       "  <tbody>\n",
       "    <tr>\n",
       "      <th>female</th>\n",
       "      <td>15</td>\n",
       "    </tr>\n",
       "  </tbody>\n",
       "</table>\n",
       "</div>"
      ],
      "text/plain": [
       "age_bracket  0-14\n",
       "gender           \n",
       "female         15"
      ]
     },
     "execution_count": 18,
     "metadata": {},
     "output_type": "execute_result"
    }
   ],
   "source": [
    "# Look at the division with 15 total runners\n",
    "\n",
    "pd.crosstab(df.loc[df['div_total']==15,'gender'],df.loc[df['div_total']==15,'age_bracket'])"
   ]
  },
  {
   "cell_type": "code",
   "execution_count": 19,
   "metadata": {
    "ExecuteTime": {
     "end_time": "2021-04-23T16:04:05.497158Z",
     "start_time": "2021-04-23T16:04:05.482193Z"
    }
   },
   "outputs": [
    {
     "data": {
      "text/html": [
       "<div>\n",
       "<style scoped>\n",
       "    .dataframe tbody tr th:only-of-type {\n",
       "        vertical-align: middle;\n",
       "    }\n",
       "\n",
       "    .dataframe tbody tr th {\n",
       "        vertical-align: top;\n",
       "    }\n",
       "\n",
       "    .dataframe thead th {\n",
       "        text-align: right;\n",
       "    }\n",
       "</style>\n",
       "<table border=\"1\" class=\"dataframe\">\n",
       "  <thead>\n",
       "    <tr style=\"text-align: right;\">\n",
       "      <th>age_bracket</th>\n",
       "      <th>0-14</th>\n",
       "      <th>50-59</th>\n",
       "    </tr>\n",
       "    <tr>\n",
       "      <th>gender</th>\n",
       "      <th></th>\n",
       "      <th></th>\n",
       "    </tr>\n",
       "  </thead>\n",
       "  <tbody>\n",
       "    <tr>\n",
       "      <th>female</th>\n",
       "      <td>0</td>\n",
       "      <td>28</td>\n",
       "    </tr>\n",
       "    <tr>\n",
       "      <th>male</th>\n",
       "      <td>28</td>\n",
       "      <td>0</td>\n",
       "    </tr>\n",
       "  </tbody>\n",
       "</table>\n",
       "</div>"
      ],
      "text/plain": [
       "age_bracket  0-14  50-59\n",
       "gender                  \n",
       "female          0     28\n",
       "male           28      0"
      ]
     },
     "execution_count": 19,
     "metadata": {},
     "output_type": "execute_result"
    }
   ],
   "source": [
    "# Look at the divisions with 28 total runners\n",
    "\n",
    "pd.crosstab(df.loc[df['div_total']==28,'gender'],df.loc[df['div_total']==28,'age_bracket'])"
   ]
  },
  {
   "cell_type": "code",
   "execution_count": 20,
   "metadata": {
    "ExecuteTime": {
     "end_time": "2021-04-23T16:04:05.513156Z",
     "start_time": "2021-04-23T16:04:05.498158Z"
    }
   },
   "outputs": [
    {
     "data": {
      "text/html": [
       "<div>\n",
       "<style scoped>\n",
       "    .dataframe tbody tr th:only-of-type {\n",
       "        vertical-align: middle;\n",
       "    }\n",
       "\n",
       "    .dataframe tbody tr th {\n",
       "        vertical-align: top;\n",
       "    }\n",
       "\n",
       "    .dataframe thead th {\n",
       "        text-align: right;\n",
       "    }\n",
       "</style>\n",
       "<table border=\"1\" class=\"dataframe\">\n",
       "  <thead>\n",
       "    <tr style=\"text-align: right;\">\n",
       "      <th></th>\n",
       "      <th>Place</th>\n",
       "      <th>div_tot</th>\n",
       "      <th>Num</th>\n",
       "      <th>Name</th>\n",
       "      <th>age</th>\n",
       "      <th>Hometown</th>\n",
       "      <th>gun_time</th>\n",
       "      <th>net_time</th>\n",
       "      <th>Pace</th>\n",
       "      <th>gender</th>\n",
       "      <th>div_place</th>\n",
       "      <th>div_total</th>\n",
       "      <th>age_bracket</th>\n",
       "    </tr>\n",
       "  </thead>\n",
       "  <tbody>\n",
       "    <tr>\n",
       "      <th>791</th>\n",
       "      <td>792</td>\n",
       "      <td>15/28</td>\n",
       "      <td>1555</td>\n",
       "      <td>Jon Kesler</td>\n",
       "      <td>-1.0</td>\n",
       "      <td>Silver Spring MD</td>\n",
       "      <td>59:20</td>\n",
       "      <td>54:06</td>\n",
       "      <td>8:43</td>\n",
       "      <td>male</td>\n",
       "      <td>15</td>\n",
       "      <td>28</td>\n",
       "      <td>0-14</td>\n",
       "    </tr>\n",
       "    <tr>\n",
       "      <th>1209</th>\n",
       "      <td>1210</td>\n",
       "      <td>26/28</td>\n",
       "      <td>556</td>\n",
       "      <td>Chris Barr</td>\n",
       "      <td>-1.0</td>\n",
       "      <td>Germantown MD</td>\n",
       "      <td>1:15:39</td>\n",
       "      <td>1:10:30</td>\n",
       "      <td>11:21</td>\n",
       "      <td>male</td>\n",
       "      <td>26</td>\n",
       "      <td>28</td>\n",
       "      <td>0-14</td>\n",
       "    </tr>\n",
       "    <tr>\n",
       "      <th>1225</th>\n",
       "      <td>1226</td>\n",
       "      <td>28/28</td>\n",
       "      <td>515</td>\n",
       "      <td>Gregory Aubertin</td>\n",
       "      <td>9.0</td>\n",
       "      <td>Rockville MD</td>\n",
       "      <td>1:16:21</td>\n",
       "      <td>1:12:26</td>\n",
       "      <td>11:40</td>\n",
       "      <td>male</td>\n",
       "      <td>28</td>\n",
       "      <td>28</td>\n",
       "      <td>0-14</td>\n",
       "    </tr>\n",
       "    <tr>\n",
       "      <th>1118</th>\n",
       "      <td>1119</td>\n",
       "      <td>24/28</td>\n",
       "      <td>1731</td>\n",
       "      <td>Jason Linzau</td>\n",
       "      <td>10.0</td>\n",
       "      <td>Silver Spring MD</td>\n",
       "      <td>1:06:44</td>\n",
       "      <td>1:03:01</td>\n",
       "      <td>10:09</td>\n",
       "      <td>male</td>\n",
       "      <td>24</td>\n",
       "      <td>28</td>\n",
       "      <td>0-14</td>\n",
       "    </tr>\n",
       "    <tr>\n",
       "      <th>668</th>\n",
       "      <td>669</td>\n",
       "      <td>11/28</td>\n",
       "      <td>514</td>\n",
       "      <td>Michael Aubertin</td>\n",
       "      <td>11.0</td>\n",
       "      <td>Rockville MD</td>\n",
       "      <td>54:59</td>\n",
       "      <td>51:51</td>\n",
       "      <td>8:21</td>\n",
       "      <td>male</td>\n",
       "      <td>11</td>\n",
       "      <td>28</td>\n",
       "      <td>0-14</td>\n",
       "    </tr>\n",
       "  </tbody>\n",
       "</table>\n",
       "</div>"
      ],
      "text/plain": [
       "      Place div_tot   Num              Name   age          Hometown gun_time  \\\n",
       "791     792   15/28  1555        Jon Kesler  -1.0  Silver Spring MD    59:20   \n",
       "1209   1210   26/28   556        Chris Barr  -1.0     Germantown MD  1:15:39   \n",
       "1225   1226   28/28   515  Gregory Aubertin   9.0      Rockville MD  1:16:21   \n",
       "1118   1119   24/28  1731      Jason Linzau  10.0  Silver Spring MD  1:06:44   \n",
       "668     669   11/28   514  Michael Aubertin  11.0      Rockville MD    54:59   \n",
       "\n",
       "     net_time   Pace gender  div_place  div_total age_bracket  \n",
       "791     54:06   8:43   male         15         28        0-14  \n",
       "1209  1:10:30  11:21   male         26         28        0-14  \n",
       "1225  1:12:26  11:40   male         28         28        0-14  \n",
       "1118  1:03:01  10:09   male         24         28        0-14  \n",
       "668     51:51   8:21   male         11         28        0-14  "
      ]
     },
     "execution_count": 20,
     "metadata": {},
     "output_type": "execute_result"
    }
   ],
   "source": [
    "df.loc[df['div_total']==28,:].sort_values('age')[:5]"
   ]
  },
  {
   "cell_type": "markdown",
   "metadata": {
    "ExecuteTime": {
     "end_time": "2021-04-22T19:13:17.864676Z",
     "start_time": "2021-04-22T19:13:17.853715Z"
    }
   },
   "source": [
    "Update the ages for to be 14.5 for the erroneous ages where the division total is 15"
   ]
  },
  {
   "cell_type": "code",
   "execution_count": 21,
   "metadata": {
    "ExecuteTime": {
     "end_time": "2021-04-23T16:04:05.529160Z",
     "start_time": "2021-04-23T16:04:05.514158Z"
    }
   },
   "outputs": [],
   "source": [
    "df.loc[(df['age']<9) & (df['div_total']==15),'age'] = 14.5"
   ]
  },
  {
   "cell_type": "markdown",
   "metadata": {},
   "source": [
    "Update the ages to be 14.5 for the male runners with erroneous ages where the division total is 28"
   ]
  },
  {
   "cell_type": "code",
   "execution_count": 22,
   "metadata": {
    "ExecuteTime": {
     "end_time": "2021-04-23T16:04:05.545160Z",
     "start_time": "2021-04-23T16:04:05.530160Z"
    }
   },
   "outputs": [],
   "source": [
    "df.loc[(df['age']<9) & (df['div_total']==28),'age'] = 14.5"
   ]
  },
  {
   "cell_type": "markdown",
   "metadata": {},
   "source": [
    "## Time"
   ]
  },
  {
   "cell_type": "markdown",
   "metadata": {},
   "source": [
    "### Look at Non Numeric Content in Net Time"
   ]
  },
  {
   "cell_type": "code",
   "execution_count": 23,
   "metadata": {
    "ExecuteTime": {
     "end_time": "2021-04-23T16:04:05.561159Z",
     "start_time": "2021-04-23T16:04:05.548159Z"
    }
   },
   "outputs": [
    {
     "data": {
      "text/plain": [
       "     2319\n",
       "*      39\n",
       "#       8\n",
       "Name: net_time, dtype: int64"
      ]
     },
     "execution_count": 23,
     "metadata": {},
     "output_type": "execute_result"
    }
   ],
   "source": [
    "# This code line identifies non numeric content in each row\n",
    "# And counts up how often each of those characters appear\n",
    "\n",
    "df['net_time'].str.replace(\":\",\"\").str.findall('((?!\\d).)*').str.join(\"\").value_counts()\n",
    "\n",
    "# Source of regex code - https://blog.finxter.com/how-to-find-all-lines-not-containing-a-regex-in-python/"
   ]
  },
  {
   "cell_type": "markdown",
   "metadata": {},
   "source": [
    "### Look at Non Numeric Content in Gun Time"
   ]
  },
  {
   "cell_type": "code",
   "execution_count": 24,
   "metadata": {
    "ExecuteTime": {
     "end_time": "2021-04-23T16:04:05.593158Z",
     "start_time": "2021-04-23T16:04:05.563158Z"
    }
   },
   "outputs": [
    {
     "data": {
      "text/plain": [
       "     2229\n",
       "D     128\n",
       "M       6\n",
       "A       1\n",
       "V       1\n",
       "N       1\n",
       "Name: gun_time, dtype: int64"
      ]
     },
     "execution_count": 24,
     "metadata": {},
     "output_type": "execute_result"
    }
   ],
   "source": [
    "df['gun_time'].str.findall('[^0-9:]').str.join(\"\").str.strip().value_counts()"
   ]
  },
  {
   "cell_type": "markdown",
   "metadata": {},
   "source": [
    "### Add a column to track these special characters"
   ]
  },
  {
   "cell_type": "code",
   "execution_count": 25,
   "metadata": {
    "ExecuteTime": {
     "end_time": "2021-04-23T16:04:05.609160Z",
     "start_time": "2021-04-23T16:04:05.594193Z"
    }
   },
   "outputs": [],
   "source": [
    "df['net_time_char'] = df['net_time'].str.replace(\":\",\"\").str.findall('((?!\\d).)*').str.join(\"\").str.strip()\n",
    "\n",
    "df['gun_time_char'] = df['gun_time'].str.replace(\":\",\"\").str.findall('[^0-9:]').str.join(\"\").str.strip()"
   ]
  },
  {
   "cell_type": "markdown",
   "metadata": {
    "ExecuteTime": {
     "end_time": "2021-04-19T20:13:01.387604Z",
     "start_time": "2021-04-19T20:13:01.379620Z"
    }
   },
   "source": [
    "### Unclear what these symbols mean\n",
    "\n",
    "In the absence of other information we'll ignore them\n",
    "\n",
    "Their prevalence is also not widespread enough to worry about ignoring them\n"
   ]
  },
  {
   "cell_type": "markdown",
   "metadata": {},
   "source": [
    "### Convert Time from Hours:Minutes:Seconds to Float Minutes"
   ]
  },
  {
   "cell_type": "code",
   "execution_count": 26,
   "metadata": {
    "ExecuteTime": {
     "end_time": "2021-04-23T16:04:05.625159Z",
     "start_time": "2021-04-23T16:04:05.610159Z"
    }
   },
   "outputs": [],
   "source": [
    "def time_to_mins(value):\n",
    "    if len(value) < 5:\n",
    "        value = '0' + value\n",
    "    hours_to_mins = int(value[0])*60\n",
    "    mins = int(value[1:3])\n",
    "    secs_to_mins = int(value[3:5])/60\n",
    "    return np.round(hours_to_mins + mins + secs_to_mins,4)"
   ]
  },
  {
   "cell_type": "code",
   "execution_count": 27,
   "metadata": {
    "ExecuteTime": {
     "end_time": "2021-04-23T16:04:05.689158Z",
     "start_time": "2021-04-23T16:04:05.627160Z"
    }
   },
   "outputs": [],
   "source": [
    "df['net_time_mins'] = df['net_time'].str.findall('[0-9]').str.join(\"\").apply(time_to_mins).astype(float)\n",
    "\n",
    "df['gun_time_mins'] = df['gun_time'].str.findall('[0-9]').str.join(\"\").apply(time_to_mins).astype(float)"
   ]
  },
  {
   "cell_type": "markdown",
   "metadata": {},
   "source": [
    "### Spot Check a Random Runner's Time to verify our formula"
   ]
  },
  {
   "cell_type": "code",
   "execution_count": 28,
   "metadata": {
    "ExecuteTime": {
     "end_time": "2021-04-23T16:04:05.784158Z",
     "start_time": "2021-04-23T16:04:05.690158Z"
    }
   },
   "outputs": [
    {
     "data": {
      "text/plain": [
       "net_time         1:02:42\n",
       "net_time_mins       62.7\n",
       "Name: 1111, dtype: object"
      ]
     },
     "execution_count": 28,
     "metadata": {},
     "output_type": "execute_result"
    }
   ],
   "source": [
    "df[['net_time','net_time_mins']].T[1111]"
   ]
  },
  {
   "cell_type": "markdown",
   "metadata": {},
   "source": [
    "## Recalculate Division Rank and Division Totals"
   ]
  },
  {
   "cell_type": "markdown",
   "metadata": {
    "ExecuteTime": {
     "end_time": "2021-04-22T19:22:27.300062Z",
     "start_time": "2021-04-22T19:22:27.292070Z"
    }
   },
   "source": [
    "### Identify the rank of each element in a subgroup of gender and age bracket"
   ]
  },
  {
   "cell_type": "code",
   "execution_count": 29,
   "metadata": {
    "ExecuteTime": {
     "end_time": "2021-04-23T16:04:05.800158Z",
     "start_time": "2021-04-23T16:04:05.785159Z"
    }
   },
   "outputs": [],
   "source": [
    "df['new_div_place'] = df.groupby(['gender','age_bracket'])['net_time_mins'].rank(ascending=True,method='first')"
   ]
  },
  {
   "cell_type": "markdown",
   "metadata": {},
   "source": [
    "### Count how many runners are in each age bracket by gender\n",
    "\n",
    "Surely there's an easier method in pandas than the below!"
   ]
  },
  {
   "cell_type": "markdown",
   "metadata": {},
   "source": [
    "#### Create a key field to map the subcounts onto"
   ]
  },
  {
   "cell_type": "code",
   "execution_count": 30,
   "metadata": {
    "ExecuteTime": {
     "end_time": "2021-04-23T16:04:05.816158Z",
     "start_time": "2021-04-23T16:04:05.801159Z"
    }
   },
   "outputs": [],
   "source": [
    "df['key_gender_age'] = df['gender'] + \" \" + df['age_bracket']"
   ]
  },
  {
   "cell_type": "markdown",
   "metadata": {},
   "source": [
    "#### Create a dataframe where the value is the subgroup counts and the index is the gender age bracket key"
   ]
  },
  {
   "cell_type": "code",
   "execution_count": 31,
   "metadata": {
    "ExecuteTime": {
     "end_time": "2021-04-23T16:04:05.848157Z",
     "start_time": "2021-04-23T16:04:05.817158Z"
    }
   },
   "outputs": [
    {
     "data": {
      "text/html": [
       "<div>\n",
       "<style scoped>\n",
       "    .dataframe tbody tr th:only-of-type {\n",
       "        vertical-align: middle;\n",
       "    }\n",
       "\n",
       "    .dataframe tbody tr th {\n",
       "        vertical-align: top;\n",
       "    }\n",
       "\n",
       "    .dataframe thead th {\n",
       "        text-align: right;\n",
       "    }\n",
       "</style>\n",
       "<table border=\"1\" class=\"dataframe\">\n",
       "  <thead>\n",
       "    <tr style=\"text-align: right;\">\n",
       "      <th></th>\n",
       "      <th>new_div_total</th>\n",
       "    </tr>\n",
       "    <tr>\n",
       "      <th>key_gender_age</th>\n",
       "      <th></th>\n",
       "    </tr>\n",
       "  </thead>\n",
       "  <tbody>\n",
       "    <tr>\n",
       "      <th>female 0-14</th>\n",
       "      <td>15</td>\n",
       "    </tr>\n",
       "    <tr>\n",
       "      <th>female 15-19</th>\n",
       "      <td>26</td>\n",
       "    </tr>\n",
       "    <tr>\n",
       "      <th>female 20-29</th>\n",
       "      <td>228</td>\n",
       "    </tr>\n",
       "    <tr>\n",
       "      <th>female 30-39</th>\n",
       "      <td>420</td>\n",
       "    </tr>\n",
       "    <tr>\n",
       "      <th>female 40-49</th>\n",
       "      <td>283</td>\n",
       "    </tr>\n",
       "    <tr>\n",
       "      <th>female 50-59</th>\n",
       "      <td>104</td>\n",
       "    </tr>\n",
       "    <tr>\n",
       "      <th>female 60-69</th>\n",
       "      <td>24</td>\n",
       "    </tr>\n",
       "    <tr>\n",
       "      <th>female 70-79</th>\n",
       "      <td>3</td>\n",
       "    </tr>\n",
       "    <tr>\n",
       "      <th>male 0-14</th>\n",
       "      <td>28</td>\n",
       "    </tr>\n",
       "    <tr>\n",
       "      <th>male 15-19</th>\n",
       "      <td>45</td>\n",
       "    </tr>\n",
       "    <tr>\n",
       "      <th>male 20-29</th>\n",
       "      <td>144</td>\n",
       "    </tr>\n",
       "    <tr>\n",
       "      <th>male 30-39</th>\n",
       "      <td>346</td>\n",
       "    </tr>\n",
       "    <tr>\n",
       "      <th>male 40-49</th>\n",
       "      <td>415</td>\n",
       "    </tr>\n",
       "    <tr>\n",
       "      <th>male 50-59</th>\n",
       "      <td>205</td>\n",
       "    </tr>\n",
       "    <tr>\n",
       "      <th>male 60-69</th>\n",
       "      <td>69</td>\n",
       "    </tr>\n",
       "    <tr>\n",
       "      <th>male 70-79</th>\n",
       "      <td>9</td>\n",
       "    </tr>\n",
       "    <tr>\n",
       "      <th>male 80-89</th>\n",
       "      <td>2</td>\n",
       "    </tr>\n",
       "  </tbody>\n",
       "</table>\n",
       "</div>"
      ],
      "text/plain": [
       "                new_div_total\n",
       "key_gender_age               \n",
       "female 0-14                15\n",
       "female 15-19               26\n",
       "female 20-29              228\n",
       "female 30-39              420\n",
       "female 40-49              283\n",
       "female 50-59              104\n",
       "female 60-69               24\n",
       "female 70-79                3\n",
       "male 0-14                  28\n",
       "male 15-19                 45\n",
       "male 20-29                144\n",
       "male 30-39                346\n",
       "male 40-49                415\n",
       "male 50-59                205\n",
       "male 60-69                 69\n",
       "male 70-79                  9\n",
       "male 80-89                  2"
      ]
     },
     "execution_count": 31,
     "metadata": {},
     "output_type": "execute_result"
    }
   ],
   "source": [
    "df_totals = pd.DataFrame(df.groupby(['gender','age_bracket']).count()['Place'])\n",
    "df_totals.rename(columns={'Place':'new_div_total'}, inplace = True)\n",
    "df_totals = df_totals.reset_index(level=[0,1])\n",
    "df_totals['key_gender_age'] = df_totals['gender'] + \" \" + df_totals['age_bracket']\n",
    "df_totals = df_totals.set_index('key_gender_age')\n",
    "df_totals = df_totals.drop(['gender','age_bracket'],axis=1)\n",
    "df_totals"
   ]
  },
  {
   "cell_type": "markdown",
   "metadata": {},
   "source": [
    "#### # Merge these counts back into the main dataframe"
   ]
  },
  {
   "cell_type": "code",
   "execution_count": 32,
   "metadata": {
    "ExecuteTime": {
     "end_time": "2021-04-23T16:04:05.864159Z",
     "start_time": "2021-04-23T16:04:05.849158Z"
    }
   },
   "outputs": [],
   "source": [
    "df = pd.merge(df,\n",
    "         df_totals,\n",
    "         left_on = 'key_gender_age',\n",
    "         right_index = True,\n",
    "         how = 'left')\n"
   ]
  },
  {
   "cell_type": "markdown",
   "metadata": {
    "ExecuteTime": {
     "end_time": "2021-04-22T19:22:12.958126Z",
     "start_time": "2021-04-22T19:22:12.948127Z"
    }
   },
   "source": [
    "### Verify the slowest runner in each group is the last place in each group"
   ]
  },
  {
   "cell_type": "code",
   "execution_count": 33,
   "metadata": {
    "ExecuteTime": {
     "end_time": "2021-04-23T16:04:05.880158Z",
     "start_time": "2021-04-23T16:04:05.866159Z"
    }
   },
   "outputs": [
    {
     "data": {
      "text/plain": [
       "True"
      ]
     },
     "execution_count": 33,
     "metadata": {},
     "output_type": "execute_result"
    }
   ],
   "source": [
    "# Create a field denoting the each runners place in reverse within each group\n",
    "df['reverse_div_rank'] = df['new_div_total'] - df['new_div_place'] + 1\n",
    "\n",
    "# Max Race Time of each gender age group\n",
    "slowest_time_of_each_gender_age_group = df.groupby('key_gender_age')['net_time_mins'].max().sort_values()\n",
    "\n",
    "# Time Value of the last place finisher in each gender age group\n",
    "slowest_time_by_reverse_place = df.loc[df['reverse_div_rank']==1,\n",
    "                                       :].set_index('key_gender_age').sort_values('net_time_mins')['net_time_mins']\n",
    "\n",
    "# Verify these arrays are equal\n",
    "np.array_equal(slowest_time_of_each_gender_age_group, slowest_time_by_reverse_place)"
   ]
  },
  {
   "cell_type": "markdown",
   "metadata": {
    "ExecuteTime": {
     "end_time": "2021-04-22T19:23:09.794711Z",
     "start_time": "2021-04-22T19:23:09.787712Z"
    }
   },
   "source": [
    "### Verify that the last place rank in each subgroup is equal to the number of elements in that group"
   ]
  },
  {
   "cell_type": "code",
   "execution_count": 34,
   "metadata": {
    "ExecuteTime": {
     "end_time": "2021-04-23T16:04:05.896159Z",
     "start_time": "2021-04-23T16:04:05.881159Z"
    }
   },
   "outputs": [
    {
     "data": {
      "text/plain": [
       "True"
      ]
     },
     "execution_count": 34,
     "metadata": {},
     "output_type": "execute_result"
    }
   ],
   "source": [
    "# Count the highest division place across all runners in a subgroup\n",
    "last_place_rank_by_gender_age_group = df.groupby('key_gender_age')['new_div_place'].max()\n",
    "\n",
    "# Count up how many runners are in each subgroup\n",
    "count_of_runners_in_gender_age_group = df.groupby('key_gender_age')['new_div_place'].count()\n",
    "\n",
    "# Verify the arrays are the same\n",
    "np.array_equal(last_place_rank_by_gender_age_group, count_of_runners_in_gender_age_group)"
   ]
  },
  {
   "cell_type": "markdown",
   "metadata": {},
   "source": [
    "# Answers to Questions"
   ]
  },
  {
   "cell_type": "markdown",
   "metadata": {
    "ExecuteTime": {
     "end_time": "2021-04-21T14:37:30.886937Z",
     "start_time": "2021-04-21T14:37:30.876916Z"
    }
   },
   "source": [
    "## What are the mean, median, mode, and range of the race results for all racers by gender?\n",
    "\n",
    "Since Time is a continuous infinitely divisible measurement \"mode\" doesn't exist unless we round\n",
    "\n",
    "Even then it'd be coincidence that two runners times ended in the same number of seconds\n",
    "\n",
    "ANSWER\n",
    "\n",
    "| gender |  female |    male |\n",
    "|-------:|--------:|--------:|\n",
    "|   mean |   58:27 |   52:07 |\n",
    "| median |   57:49 |   51:22 |\n",
    "|    min |   32:58 |   28:46 |\n",
    "|    max | 1:46:49 | 1:40:37 |\n",
    "|  range | 1:13:50 | 1:11:51 |\n",
    "\n"
   ]
  },
  {
   "cell_type": "code",
   "execution_count": 35,
   "metadata": {
    "ExecuteTime": {
     "end_time": "2021-04-23T16:04:05.911158Z",
     "start_time": "2021-04-23T16:04:05.898160Z"
    }
   },
   "outputs": [],
   "source": [
    "# To convert float minutes back into hours:mins:secs\n",
    "def mins_to_time(value):\n",
    "    hours = int(value // 60)\n",
    "    mins = int(value - hours*60)\n",
    "    secs = int(60 * (value % 1))\n",
    "    if secs < 10:\n",
    "        secs = \"0\" + str(secs)\n",
    "    if hours < 1:\n",
    "        return \"{}:{}\".format(mins,secs)\n",
    "    else:\n",
    "        return \"{}:{}:{}\".format(hours,mins,secs)"
   ]
  },
  {
   "cell_type": "code",
   "execution_count": 36,
   "metadata": {
    "ExecuteTime": {
     "end_time": "2021-04-23T16:04:05.943193Z",
     "start_time": "2021-04-23T16:04:05.912158Z"
    },
    "scrolled": true
   },
   "outputs": [
    {
     "name": "stdout",
     "output_type": "stream",
     "text": [
      "\n",
      "Race Results by Gender\n"
     ]
    },
    {
     "data": {
      "text/html": [
       "<div>\n",
       "<style scoped>\n",
       "    .dataframe tbody tr th:only-of-type {\n",
       "        vertical-align: middle;\n",
       "    }\n",
       "\n",
       "    .dataframe tbody tr th {\n",
       "        vertical-align: top;\n",
       "    }\n",
       "\n",
       "    .dataframe thead th {\n",
       "        text-align: right;\n",
       "    }\n",
       "</style>\n",
       "<table border=\"1\" class=\"dataframe\">\n",
       "  <thead>\n",
       "    <tr style=\"text-align: right;\">\n",
       "      <th>gender</th>\n",
       "      <th>female</th>\n",
       "      <th>male</th>\n",
       "    </tr>\n",
       "  </thead>\n",
       "  <tbody>\n",
       "    <tr>\n",
       "      <th>mean</th>\n",
       "      <td>58:27</td>\n",
       "      <td>52:07</td>\n",
       "    </tr>\n",
       "    <tr>\n",
       "      <th>median</th>\n",
       "      <td>57:49</td>\n",
       "      <td>51:22</td>\n",
       "    </tr>\n",
       "    <tr>\n",
       "      <th>min</th>\n",
       "      <td>32:58</td>\n",
       "      <td>28:46</td>\n",
       "    </tr>\n",
       "    <tr>\n",
       "      <th>max</th>\n",
       "      <td>1:46:49</td>\n",
       "      <td>1:40:37</td>\n",
       "    </tr>\n",
       "    <tr>\n",
       "      <th>range</th>\n",
       "      <td>1:13:50</td>\n",
       "      <td>1:11:51</td>\n",
       "    </tr>\n",
       "  </tbody>\n",
       "</table>\n",
       "</div>"
      ],
      "text/plain": [
       "gender   female     male\n",
       "mean      58:27    52:07\n",
       "median    57:49    51:22\n",
       "min       32:58    28:46\n",
       "max     1:46:49  1:40:37\n",
       "range   1:13:50  1:11:51"
      ]
     },
     "execution_count": 36,
     "metadata": {},
     "output_type": "execute_result"
    }
   ],
   "source": [
    "print(\"\\nRace Results by Gender\")\n",
    "\n",
    "df_race_stats = df.groupby('gender')['net_time_mins'].agg(['mean','median','min','max']).round(2).T\n",
    "\n",
    "# Range (Max - Min) isn't a default aggregating function\n",
    "df_gender_range = pd.DataFrame(df.groupby('gender')['net_time_mins'].max() - df.groupby('gender')['net_time_mins'].min())\n",
    "df_gender_range = df_gender_range.rename(columns={'net_time_mins':'range'}).T\n",
    "\n",
    "df_race_stats = df_race_stats.append(df_gender_range)\n",
    "\n",
    "# .apply fails when applied to whole dataframe\n",
    "df_race_stats['female'] = df_race_stats['female'].apply(mins_to_time)\n",
    "df_race_stats['male'] = df_race_stats['male'].apply(mins_to_time)\n",
    "\n",
    "df_race_stats"
   ]
  },
  {
   "cell_type": "markdown",
   "metadata": {},
   "source": [
    "## Analyze the difference between gun time and net time race results."
   ]
  },
  {
   "cell_type": "markdown",
   "metadata": {},
   "source": [
    "ANSWER - Slower runners have a larger delta between the two (gun time > net time)\n",
    "* Gun Time and Net Time are highly correlated\n",
    "* Gun Time is always greater than or equal to Net Time\n",
    "* This difference increases with runner time, faster runners have a narrower delta, slower runners a wider gap\n",
    "* The difference is gender is explained by males having a faster time on average\n",
    "* There is no correlation with age of the runner nor the number of runners in a division\n",
    "* The \"tiering\" in the distribution of gun time vs net time is likely due to the race having multiple/rolling gun starts"
   ]
  },
  {
   "cell_type": "markdown",
   "metadata": {
    "ExecuteTime": {
     "end_time": "2021-04-23T14:47:31.890471Z",
     "start_time": "2021-04-23T14:47:31.873472Z"
    }
   },
   "source": [
    "### Create a variable to measure this"
   ]
  },
  {
   "cell_type": "code",
   "execution_count": 37,
   "metadata": {
    "ExecuteTime": {
     "end_time": "2021-04-23T16:04:05.959195Z",
     "start_time": "2021-04-23T16:04:05.944158Z"
    }
   },
   "outputs": [],
   "source": [
    "df['net_less_gun'] = df['gun_time_mins'] - df['net_time_mins']"
   ]
  },
  {
   "cell_type": "markdown",
   "metadata": {},
   "source": [
    "### Visualize the Distribution of this Difference"
   ]
  },
  {
   "cell_type": "code",
   "execution_count": 38,
   "metadata": {
    "ExecuteTime": {
     "end_time": "2021-04-23T16:04:06.117921Z",
     "start_time": "2021-04-23T16:04:05.960194Z"
    }
   },
   "outputs": [
    {
     "data": {
      "image/png": "[encoded data removed]",
      "text/plain": [
       "<Figure size 648x432 with 1 Axes>"
      ]
     },
     "metadata": {
      "needs_background": "light"
     },
     "output_type": "display_data"
    }
   ],
   "source": [
    "plt.figure(figsize=(9,6))\n",
    "\n",
    "sns.distplot(df['net_less_gun'],\n",
    "            hist = False,\n",
    "            kde = True,\n",
    "            axlabel = \"Net Time minus Gun Time\",\n",
    "            );\n",
    "\n",
    "plt.title(\"Distribution of Net Time minus Gun Time\\n Notice the \\'buckets\\' in the data\",fontsize = 14);"
   ]
  },
  {
   "cell_type": "markdown",
   "metadata": {
    "ExecuteTime": {
     "end_time": "2021-04-23T14:37:19.563655Z",
     "start_time": "2021-04-23T14:37:19.548658Z"
    }
   },
   "source": [
    "### Look for Correlations"
   ]
  },
  {
   "cell_type": "code",
   "execution_count": 39,
   "metadata": {
    "ExecuteTime": {
     "end_time": "2021-04-23T16:04:06.133998Z",
     "start_time": "2021-04-23T16:04:06.118921Z"
    }
   },
   "outputs": [],
   "source": [
    "# Convert gender to an integer\n",
    "df['male_as_1']=df['gender'].apply(lambda x: x == 'male').astype(int)"
   ]
  },
  {
   "cell_type": "code",
   "execution_count": 40,
   "metadata": {
    "ExecuteTime": {
     "end_time": "2021-04-23T16:04:06.150019Z",
     "start_time": "2021-04-23T16:04:06.134983Z"
    }
   },
   "outputs": [
    {
     "name": "stdout",
     "output_type": "stream",
     "text": [
      "'Place',\n",
      "'div_tot',\n",
      "'Num',\n",
      "'Name',\n",
      "'age',\n",
      "'Hometown',\n",
      "'gun_time',\n",
      "'net_time',\n",
      "'Pace',\n",
      "'gender',\n",
      "'div_place',\n",
      "'div_total',\n",
      "'age_bracket',\n",
      "'net_time_char',\n",
      "'gun_time_char',\n",
      "'net_time_mins',\n",
      "'gun_time_mins',\n",
      "'new_div_place',\n",
      "'key_gender_age',\n",
      "'new_div_total',\n",
      "'reverse_div_rank',\n",
      "'net_less_gun',\n",
      "'male_as_1',\n"
     ]
    }
   ],
   "source": [
    "# Print all variables to make it easier to downselect to which we want to correlate\n",
    "\n",
    "for i in df.columns:\n",
    "    print(\"'\" + i + \"',\")"
   ]
  },
  {
   "cell_type": "code",
   "execution_count": 41,
   "metadata": {
    "ExecuteTime": {
     "end_time": "2021-04-23T16:04:06.166035Z",
     "start_time": "2021-04-23T16:04:06.150984Z"
    }
   },
   "outputs": [],
   "source": [
    "# Identify variables of interest\n",
    "variables_to_correlate = [\n",
    "    'Place',\n",
    "#     'div_tot',\n",
    "#     'Num',\n",
    "#     'Name',\n",
    "    'age',\n",
    "#     'Hometown',\n",
    "#     'gun_time',\n",
    "#     'net_time',\n",
    "#     'Pace',\n",
    "#     'gender',\n",
    "#     'div_place',\n",
    "#     'div_total',\n",
    "    'age_bracket',\n",
    "#     'net_time_char',\n",
    "#     'gun_time_char',\n",
    "    'net_time_mins',\n",
    "    'gun_time_mins',\n",
    "    'new_div_place',\n",
    "    'key_gender_age',\n",
    "    'new_div_total',\n",
    "#     'reverse_div_rank',\n",
    "#     'net_less_gun',\n",
    "    'male_as_1',\n",
    "]"
   ]
  },
  {
   "cell_type": "code",
   "execution_count": 42,
   "metadata": {
    "ExecuteTime": {
     "end_time": "2021-04-23T16:04:06.182030Z",
     "start_time": "2021-04-23T16:04:06.166984Z"
    }
   },
   "outputs": [
    {
     "data": {
      "text/plain": [
       "net_less_gun     1.000000\n",
       "gun_time_mins    0.753258\n",
       "net_time_mins    0.682749\n",
       "Place            0.669165\n",
       "new_div_place    0.496077\n",
       "age              0.052752\n",
       "new_div_total   -0.025456\n",
       "male_as_1       -0.233731\n",
       "Name: net_less_gun, dtype: float64"
      ]
     },
     "execution_count": 42,
     "metadata": {},
     "output_type": "execute_result"
    }
   ],
   "source": [
    "df[['net_less_gun']+variables_to_correlate].corr()['net_less_gun'].sort_values(ascending=False)"
   ]
  },
  {
   "cell_type": "markdown",
   "metadata": {
    "ExecuteTime": {
     "end_time": "2021-04-23T15:07:29.881356Z",
     "start_time": "2021-04-23T15:07:29.878355Z"
    }
   },
   "source": [
    "### Visualize this delta vs run time"
   ]
  },
  {
   "cell_type": "code",
   "execution_count": 43,
   "metadata": {
    "ExecuteTime": {
     "end_time": "2021-04-23T16:04:06.357983Z",
     "start_time": "2021-04-23T16:04:06.183031Z"
    }
   },
   "outputs": [
    {
     "data": {
      "image/png": "[encoded data removed]",
      "text/plain": [
       "<Figure size 1080x648 with 1 Axes>"
      ]
     },
     "metadata": {
      "needs_background": "light"
     },
     "output_type": "display_data"
    }
   ],
   "source": [
    "plt.figure(figsize=(15,9))\n",
    "\n",
    "sns.scatterplot(data=df,\n",
    "                x=\"net_time_mins\",\n",
    "                y=\"net_less_gun\")\n",
    "\n",
    "plt.title(\"Plot of Net Time and Gun Time less Net Time \\nEach Dot is Runner\", fontsize = 18)\n",
    "\n",
    "plt.yticks(np.arange(0,10,1))\n",
    "plt.ylabel('Gun Time minus Net Time', fontsize = 14)\n",
    "\n",
    "plt.xticks(np.arange(30,120,5))\n",
    "plt.xlabel('Net Race Time in Minutes', fontsize = 14);"
   ]
  },
  {
   "cell_type": "markdown",
   "metadata": {},
   "source": [
    "## How much time separates Chris Doe from the top 10 percentile of racers of the same division?"
   ]
  },
  {
   "cell_type": "markdown",
   "metadata": {
    "ExecuteTime": {
     "end_time": "2021-04-23T15:29:01.666756Z",
     "start_time": "2021-04-23T15:29:01.649756Z"
    }
   },
   "source": [
    "ANSWER\n",
    "\n",
    "* 8.03 minutes separate Chris Doe from the top 10 percentile of racers of his division male 40-49"
   ]
  },
  {
   "cell_type": "markdown",
   "metadata": {
    "ExecuteTime": {
     "end_time": "2021-04-23T15:18:21.074625Z",
     "start_time": "2021-04-23T15:18:21.067662Z"
    }
   },
   "source": [
    "### Verify a Chris Doe exists"
   ]
  },
  {
   "cell_type": "code",
   "execution_count": 44,
   "metadata": {
    "ExecuteTime": {
     "end_time": "2021-04-23T16:04:06.390034Z",
     "start_time": "2021-04-23T16:04:06.359986Z"
    }
   },
   "outputs": [
    {
     "data": {
      "text/html": [
       "<div>\n",
       "<style scoped>\n",
       "    .dataframe tbody tr th:only-of-type {\n",
       "        vertical-align: middle;\n",
       "    }\n",
       "\n",
       "    .dataframe tbody tr th {\n",
       "        vertical-align: top;\n",
       "    }\n",
       "\n",
       "    .dataframe thead th {\n",
       "        text-align: right;\n",
       "    }\n",
       "</style>\n",
       "<table border=\"1\" class=\"dataframe\">\n",
       "  <thead>\n",
       "    <tr style=\"text-align: right;\">\n",
       "      <th></th>\n",
       "      <th>Place</th>\n",
       "      <th>div_tot</th>\n",
       "      <th>Num</th>\n",
       "      <th>Name</th>\n",
       "      <th>age</th>\n",
       "      <th>Hometown</th>\n",
       "      <th>gun_time</th>\n",
       "      <th>net_time</th>\n",
       "      <th>Pace</th>\n",
       "      <th>gender</th>\n",
       "      <th>...</th>\n",
       "      <th>net_time_char</th>\n",
       "      <th>gun_time_char</th>\n",
       "      <th>net_time_mins</th>\n",
       "      <th>gun_time_mins</th>\n",
       "      <th>new_div_place</th>\n",
       "      <th>key_gender_age</th>\n",
       "      <th>new_div_total</th>\n",
       "      <th>reverse_div_rank</th>\n",
       "      <th>net_less_gun</th>\n",
       "      <th>male_as_1</th>\n",
       "    </tr>\n",
       "  </thead>\n",
       "  <tbody>\n",
       "    <tr>\n",
       "      <th>534</th>\n",
       "      <td>535</td>\n",
       "      <td>108/214</td>\n",
       "      <td>2869</td>\n",
       "      <td>Chris Doe</td>\n",
       "      <td>44.0</td>\n",
       "      <td>Reson VA</td>\n",
       "      <td>53:07</td>\n",
       "      <td>49:43</td>\n",
       "      <td>8:00</td>\n",
       "      <td>male</td>\n",
       "      <td>...</td>\n",
       "      <td></td>\n",
       "      <td></td>\n",
       "      <td>49.7167</td>\n",
       "      <td>53.1167</td>\n",
       "      <td>189.0</td>\n",
       "      <td>male 40-49</td>\n",
       "      <td>415</td>\n",
       "      <td>227.0</td>\n",
       "      <td>3.4</td>\n",
       "      <td>1</td>\n",
       "    </tr>\n",
       "  </tbody>\n",
       "</table>\n",
       "<p>1 rows × 23 columns</p>\n",
       "</div>"
      ],
      "text/plain": [
       "     Place  div_tot   Num       Name   age  Hometown gun_time net_time  Pace  \\\n",
       "534    535  108/214  2869  Chris Doe  44.0  Reson VA    53:07    49:43  8:00   \n",
       "\n",
       "    gender  ...  net_time_char  gun_time_char net_time_mins gun_time_mins  \\\n",
       "534   male  ...                                     49.7167       53.1167   \n",
       "\n",
       "    new_div_place  key_gender_age  new_div_total  reverse_div_rank  \\\n",
       "534         189.0      male 40-49            415             227.0   \n",
       "\n",
       "    net_less_gun  male_as_1  \n",
       "534          3.4          1  \n",
       "\n",
       "[1 rows x 23 columns]"
      ]
     },
     "execution_count": 44,
     "metadata": {},
     "output_type": "execute_result"
    }
   ],
   "source": [
    "df.loc[df['Name']=='Chris Doe']"
   ]
  },
  {
   "cell_type": "markdown",
   "metadata": {
    "ExecuteTime": {
     "end_time": "2021-04-23T15:17:19.759938Z",
     "start_time": "2021-04-23T15:17:19.747940Z"
    }
   },
   "source": [
    "### Identify Chris Doe's Division"
   ]
  },
  {
   "cell_type": "code",
   "execution_count": 45,
   "metadata": {
    "ExecuteTime": {
     "end_time": "2021-04-23T16:04:06.406046Z",
     "start_time": "2021-04-23T16:04:06.390983Z"
    }
   },
   "outputs": [
    {
     "data": {
      "text/plain": [
       "'male 40-49'"
      ]
     },
     "execution_count": 45,
     "metadata": {},
     "output_type": "execute_result"
    }
   ],
   "source": [
    "division_chris_doe = df.loc[df['Name']=='Chris Doe']['key_gender_age'].iloc[0]\n",
    "division_chris_doe"
   ]
  },
  {
   "cell_type": "markdown",
   "metadata": {
    "ExecuteTime": {
     "end_time": "2021-04-23T15:21:58.846866Z",
     "start_time": "2021-04-23T15:21:58.834867Z"
    }
   },
   "source": [
    "### Calculate 10th percentile of racers in that division"
   ]
  },
  {
   "cell_type": "code",
   "execution_count": 46,
   "metadata": {
    "ExecuteTime": {
     "end_time": "2021-04-23T16:04:06.422047Z",
     "start_time": "2021-04-23T16:04:06.410028Z"
    }
   },
   "outputs": [
    {
     "data": {
      "text/plain": [
       "41.69"
      ]
     },
     "execution_count": 46,
     "metadata": {},
     "output_type": "execute_result"
    }
   ],
   "source": [
    "chris_doe_division_10th_percentile_time = df.loc[df['key_gender_age']==division_chris_doe,'net_time_mins'].quantile(0.1)\n",
    "chris_doe_division_10th_percentile_time"
   ]
  },
  {
   "cell_type": "markdown",
   "metadata": {},
   "source": [
    "### Calculate Chris's time"
   ]
  },
  {
   "cell_type": "code",
   "execution_count": 47,
   "metadata": {
    "ExecuteTime": {
     "end_time": "2021-04-23T16:04:06.438008Z",
     "start_time": "2021-04-23T16:04:06.423986Z"
    }
   },
   "outputs": [
    {
     "data": {
      "text/plain": [
       "49.7167"
      ]
     },
     "execution_count": 47,
     "metadata": {},
     "output_type": "execute_result"
    }
   ],
   "source": [
    "chris_doe_time = df.loc[df['Name']=='Chris Doe','net_time_mins'].iloc[0]\n",
    "chris_doe_time"
   ]
  },
  {
   "cell_type": "markdown",
   "metadata": {},
   "source": [
    "### Calculate the difference with Chris Doe's time"
   ]
  },
  {
   "cell_type": "code",
   "execution_count": 48,
   "metadata": {
    "ExecuteTime": {
     "end_time": "2021-04-23T16:04:06.454012Z",
     "start_time": "2021-04-23T16:04:06.438984Z"
    }
   },
   "outputs": [
    {
     "name": "stdout",
     "output_type": "stream",
     "text": [
      "8.03 minutes separates Chris Doe from the top 10 percentile of racers of his division male 40-49\n"
     ]
    }
   ],
   "source": [
    "difference = np.round(chris_doe_time - chris_doe_division_10th_percentile_time,2)\n",
    "\n",
    "print(\"{} minutes separates Chris Doe from the top 10 percentile of racers of his division {}\".format(difference, division_chris_doe))"
   ]
  },
  {
   "cell_type": "markdown",
   "metadata": {
    "ExecuteTime": {
     "end_time": "2021-04-21T14:38:12.938282Z",
     "start_time": "2021-04-21T14:38:12.933281Z"
    }
   },
   "source": [
    "## Compare the race results of each division.\n",
    "\n",
    "ANSWER\n",
    "\n",
    "* The fastest runners overall are ages 20-29\n",
    "* The fastest average division is 15-19 for both genders\n",
    "* Below the age of 80, there is more variation within divisions than there is across divisions\n",
    " * That is to say, fast and slow runners exist in every age group\n",
    "* There appears to be more variation within female divisions than male divisions\n",
    "* The gap between male and female runners decreases with age\n"
   ]
  },
  {
   "cell_type": "markdown",
   "metadata": {},
   "source": [
    "### Numerical Results by Division and Gender"
   ]
  },
  {
   "cell_type": "code",
   "execution_count": 49,
   "metadata": {
    "ExecuteTime": {
     "end_time": "2021-04-23T16:04:06.486054Z",
     "start_time": "2021-04-23T16:04:06.457989Z"
    }
   },
   "outputs": [
    {
     "data": {
      "text/html": [
       "<div>\n",
       "<style scoped>\n",
       "    .dataframe tbody tr th:only-of-type {\n",
       "        vertical-align: middle;\n",
       "    }\n",
       "\n",
       "    .dataframe tbody tr th {\n",
       "        vertical-align: top;\n",
       "    }\n",
       "\n",
       "    .dataframe thead th {\n",
       "        text-align: right;\n",
       "    }\n",
       "</style>\n",
       "<table border=\"1\" class=\"dataframe\">\n",
       "  <thead>\n",
       "    <tr style=\"text-align: right;\">\n",
       "      <th></th>\n",
       "      <th></th>\n",
       "      <th>count</th>\n",
       "      <th>mean</th>\n",
       "      <th>std</th>\n",
       "    </tr>\n",
       "    <tr>\n",
       "      <th>age_bracket</th>\n",
       "      <th>gender</th>\n",
       "      <th></th>\n",
       "      <th></th>\n",
       "      <th></th>\n",
       "    </tr>\n",
       "  </thead>\n",
       "  <tbody>\n",
       "    <tr>\n",
       "      <th rowspan=\"2\" valign=\"top\">0-14</th>\n",
       "      <th>female</th>\n",
       "      <td>15</td>\n",
       "      <td>59.50</td>\n",
       "      <td>6.34</td>\n",
       "    </tr>\n",
       "    <tr>\n",
       "      <th>male</th>\n",
       "      <td>28</td>\n",
       "      <td>55.56</td>\n",
       "      <td>8.47</td>\n",
       "    </tr>\n",
       "    <tr>\n",
       "      <th rowspan=\"2\" valign=\"top\">15-19</th>\n",
       "      <th>female</th>\n",
       "      <td>26</td>\n",
       "      <td>52.13</td>\n",
       "      <td>9.16</td>\n",
       "    </tr>\n",
       "    <tr>\n",
       "      <th>male</th>\n",
       "      <td>45</td>\n",
       "      <td>46.65</td>\n",
       "      <td>9.88</td>\n",
       "    </tr>\n",
       "    <tr>\n",
       "      <th rowspan=\"2\" valign=\"top\">20-29</th>\n",
       "      <th>female</th>\n",
       "      <td>228</td>\n",
       "      <td>57.25</td>\n",
       "      <td>9.10</td>\n",
       "    </tr>\n",
       "    <tr>\n",
       "      <th>male</th>\n",
       "      <td>144</td>\n",
       "      <td>49.52</td>\n",
       "      <td>11.16</td>\n",
       "    </tr>\n",
       "    <tr>\n",
       "      <th rowspan=\"2\" valign=\"top\">30-39</th>\n",
       "      <th>female</th>\n",
       "      <td>420</td>\n",
       "      <td>58.70</td>\n",
       "      <td>10.69</td>\n",
       "    </tr>\n",
       "    <tr>\n",
       "      <th>male</th>\n",
       "      <td>346</td>\n",
       "      <td>51.66</td>\n",
       "      <td>8.83</td>\n",
       "    </tr>\n",
       "    <tr>\n",
       "      <th rowspan=\"2\" valign=\"top\">40-49</th>\n",
       "      <th>female</th>\n",
       "      <td>283</td>\n",
       "      <td>57.87</td>\n",
       "      <td>8.99</td>\n",
       "    </tr>\n",
       "    <tr>\n",
       "      <th>male</th>\n",
       "      <td>415</td>\n",
       "      <td>51.61</td>\n",
       "      <td>9.18</td>\n",
       "    </tr>\n",
       "    <tr>\n",
       "      <th rowspan=\"2\" valign=\"top\">50-59</th>\n",
       "      <th>female</th>\n",
       "      <td>104</td>\n",
       "      <td>62.61</td>\n",
       "      <td>9.35</td>\n",
       "    </tr>\n",
       "    <tr>\n",
       "      <th>male</th>\n",
       "      <td>205</td>\n",
       "      <td>53.93</td>\n",
       "      <td>9.07</td>\n",
       "    </tr>\n",
       "    <tr>\n",
       "      <th rowspan=\"2\" valign=\"top\">60-69</th>\n",
       "      <th>female</th>\n",
       "      <td>24</td>\n",
       "      <td>60.01</td>\n",
       "      <td>11.53</td>\n",
       "    </tr>\n",
       "    <tr>\n",
       "      <th>male</th>\n",
       "      <td>69</td>\n",
       "      <td>58.47</td>\n",
       "      <td>10.30</td>\n",
       "    </tr>\n",
       "    <tr>\n",
       "      <th rowspan=\"2\" valign=\"top\">70-79</th>\n",
       "      <th>female</th>\n",
       "      <td>3</td>\n",
       "      <td>64.11</td>\n",
       "      <td>11.49</td>\n",
       "    </tr>\n",
       "    <tr>\n",
       "      <th>male</th>\n",
       "      <td>9</td>\n",
       "      <td>59.26</td>\n",
       "      <td>11.85</td>\n",
       "    </tr>\n",
       "    <tr>\n",
       "      <th>80-89</th>\n",
       "      <th>male</th>\n",
       "      <td>2</td>\n",
       "      <td>73.66</td>\n",
       "      <td>1.03</td>\n",
       "    </tr>\n",
       "  </tbody>\n",
       "</table>\n",
       "</div>"
      ],
      "text/plain": [
       "                    count   mean    std\n",
       "age_bracket gender                     \n",
       "0-14        female     15  59.50   6.34\n",
       "            male       28  55.56   8.47\n",
       "15-19       female     26  52.13   9.16\n",
       "            male       45  46.65   9.88\n",
       "20-29       female    228  57.25   9.10\n",
       "            male      144  49.52  11.16\n",
       "30-39       female    420  58.70  10.69\n",
       "            male      346  51.66   8.83\n",
       "40-49       female    283  57.87   8.99\n",
       "            male      415  51.61   9.18\n",
       "50-59       female    104  62.61   9.35\n",
       "            male      205  53.93   9.07\n",
       "60-69       female     24  60.01  11.53\n",
       "            male       69  58.47  10.30\n",
       "70-79       female      3  64.11  11.49\n",
       "            male        9  59.26  11.85\n",
       "80-89       male        2  73.66   1.03"
      ]
     },
     "execution_count": 49,
     "metadata": {},
     "output_type": "execute_result"
    }
   ],
   "source": [
    "df.groupby(['age_bracket','gender'])['net_time_mins'].agg(['count','mean','std']).round(2)"
   ]
  },
  {
   "cell_type": "markdown",
   "metadata": {
    "ExecuteTime": {
     "end_time": "2021-04-22T20:06:55.128421Z",
     "start_time": "2021-04-22T20:06:55.121377Z"
    }
   },
   "source": [
    "### Visualizing Results by Division and Gender"
   ]
  },
  {
   "cell_type": "code",
   "execution_count": 50,
   "metadata": {
    "ExecuteTime": {
     "end_time": "2021-04-23T16:04:06.774044Z",
     "start_time": "2021-04-23T16:04:06.489990Z"
    }
   },
   "outputs": [
    {
     "data": {
      "image/png": "[encoded data removed]",
      "text/plain": [
       "<Figure size 1080x648 with 1 Axes>"
      ]
     },
     "metadata": {
      "needs_background": "light"
     },
     "output_type": "display_data"
    }
   ],
   "source": [
    "# Inspired by the Seaborn Gallery Example Violin Plot\n",
    "# https://seaborn.pydata.org/examples/grouped_violinplots.html\n",
    "\n",
    "plt.figure(figsize=(15,9))\n",
    "\n",
    "sns.violinplot(data=df, \n",
    "               x=\"age_bracket\",\n",
    "               y=\"net_time_mins\",\n",
    "               hue=\"gender\",\n",
    "               scale = 'width',\n",
    "               split = True,\n",
    "               inner = 'quartile',\n",
    "               order = ['0-14','15-19','20-29', '30-39', '40-49', '50-59', '60-69','70-79', '80-89'],\n",
    "               palette = 'pastel'\n",
    "              )\n",
    "\n",
    "plt.axhline(np.mean(df['net_time_mins']),\n",
    "            color = 'red',\n",
    "           linestyle = '-',\n",
    "           lw = 1)\n",
    "\n",
    "plt.suptitle(\"Distribution of Race Times by Runner's Age Bracket and Gender\",\n",
    "          fontsize = 18)\n",
    "\n",
    "plt.title(\"Horizontal Red Line Denotes Average Race Time of All Runners\\nDashed Lines Within Shaded Sections Denote Quartiles\",\n",
    "          fontsize = 14)\n",
    "\n",
    "plt.yticks(range(0,121,15))\n",
    "plt.ylabel('Net Race Time in Minutes', fontsize = 14)\n",
    "\n",
    "plt.xlabel('Age Bracket of Runner', fontsize = 14)\n",
    "\n",
    "plt.legend(fontsize = 12,loc = 'upper left')\n",
    "\n",
    "plt.grid(axis = 'y',\n",
    "         color = 'grey',\n",
    "         linestyle = \"--\")"
   ]
  }
 ],
 "metadata": {
  "kernelspec": {
   "display_name": "Python 3",
   "language": "python",
   "name": "python3"
  },
  "language_info": {
   "codemirror_mode": {
    "name": "ipython",
    "version": 3
   },
   "file_extension": ".py",
   "mimetype": "text/x-python",
   "name": "python",
   "nbconvert_exporter": "python",
   "pygments_lexer": "ipython3",
   "version": "3.7.6"
  },
  "toc": {
   "base_numbering": 1,
   "nav_menu": {},
   "number_sections": true,
   "sideBar": true,
   "skip_h1_title": false,
   "title_cell": "Table of Contents",
   "title_sidebar": "Contents",
   "toc_cell": false,
   "toc_position": {},
   "toc_section_display": true,
   "toc_window_display": false
  }
 },
 "nbformat": 4,
 "nbformat_minor": 4
}
